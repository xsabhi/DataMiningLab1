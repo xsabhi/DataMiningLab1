{
 "cells": [
  {
   "cell_type": "code",
   "execution_count": 7,
   "metadata": {
    "collapsed": false
   },
   "outputs": [],
   "source": [
    "import pandas as pd\n",
    "# Read the csv files by year and month\n",
    "# DataFrame for March 2016\n",
    "df1 = pd.read_csv('./Data/201603.csv', index_col=0)\n",
    "# DataFrame for April 2016\n",
    "df2 = pd.read_csv('./Data/201604.csv', index_col=0)\n",
    "# DataFrame for May 2016\n",
    "df3 = pd.read_csv('./Data/201605.csv', index_col=0)\n",
    "# DataFrame for June 2016\n",
    "df4 = pd.read_csv('./Data/201606.csv', index_col=0)\n",
    "# DataFrame for July 2016\n",
    "df5 = pd.read_csv('./Data/201607.csv', index_col=0)\n",
    "# DataFrame for August 2016\n",
    "df6 = pd.read_csv('./Data/201608.csv', index_col=0)\n",
    "# DataFrame for September 2016\n",
    "df7 = pd.read_csv('./Data/201609.csv', index_col=0)\n",
    "# DataFrame for October 2016\n",
    "df8 = pd.read_csv('./Data/201610.csv', index_col=0)\n",
    "# DataFrame for November 2016\n",
    "df9 = pd.read_csv('./Data/201611.csv', index_col=0)\n",
    "# DataFrame for December 2016\n",
    "df10 = pd.read_csv('./Data/201612.csv', index_col=0)\n",
    "# DataFrame for January 2017\n",
    "df11 = pd.read_csv('./Data/201701.csv', index_col=0)\n",
    "# DataFrame for February 2017\n",
    "df12 = pd.read_csv('./Data/201702.csv', index_col=0)"
   ]
  },
  {
   "cell_type": "code",
   "execution_count": 8,
   "metadata": {
    "collapsed": false
   },
   "outputs": [],
   "source": [
    "dataframes = [df1, df2, df3, df4, df5, df6, df7, df8, df9, df10, df11, df12]\n",
    "cols = ['YEAR','QUARTER','MONTH','DAY_OF_MONTH','DAY_OF_WEEK','FL_DATE','UNIQUE_CARRIER','AIRLINE_ID','CARRIER','TAIL_NUM','FL_NUM','ORIGIN_AIRPORT_ID','ORIGIN_AIRPORT_SEQ_ID','ORIGIN_CITY_MARKET_ID','ORIGIN','ORIGIN_CITY_NAME','ORIGIN_STATE_ABR','ORIGIN_STATE_FIPS','ORIGIN_STATE_NM','ORIGIN_WAC','DEST_AIRPORT_ID','DEST_AIRPORT_SEQ_ID','DEST_CITY_MARKET_ID','DEST','DEST_CITY_NAME','DEST_STATE_ABR','DEST_STATE_FIPS','DEST_STATE_NM','DEST_WAC','CRS_DEP_TIME','DEP_TIME','DEP_DELAY','DEP_DELAY_NEW','DEP_DEL15','DEP_DELAY_GROUP','DEP_TIME_BLK','TAXI_OUT','WHEELS_OFF','WHEELS_ON','TAXI_IN','CRS_ARR_TIME','ARR_TIME','ARR_DELAY','ARR_DELAY_NEW','ARR_DEL15','ARR_DELAY_GROUP','ARR_TIME_BLK','CANCELLED','CANCELLATION_CODE','DIVERTED','CRS_ELAPSED_TIME','ACTUAL_ELAPSED_TIME','AIR_TIME','FLIGHTS','DISTANCE','DISTANCE_GROUP','CARRIER_DELAY','WEATHER_DELAY','NAS_DELAY','SECURITY_DELAY','LATE_AIRCRAFT_DELAY','FIRST_DEP_TIME','TOTAL_ADD_GTIME','LONGEST_ADD_GTIME','DIV_AIRPORT_LANDINGS','DIV_REACHED_DEST','DIV_ACTUAL_ELAPSED_TIME','DIV_ARR_DELAY','DIV_DISTANCE','DIV1_AIRPORT','DIV1_AIRPORT_ID','DIV1_AIRPORT_SEQ_ID','DIV1_WHEELS_ON','DIV1_TOTAL_GTIME','DIV1_LONGEST_GTIME','DIV1_WHEELS_OFF','DIV1_TAIL_NUM','DIV2_AIRPORT','DIV2_AIRPORT_ID','DIV2_AIRPORT_SEQ_ID','DIV2_WHEELS_ON','DIV2_TOTAL_GTIME','DIV2_LONGEST_GTIME','DIV2_WHEELS_OFF','DIV2_TAIL_NUM','DIV3_AIRPORT','DIV3_AIRPORT_ID','DIV3_AIRPORT_SEQ_ID','DIV3_WHEELS_ON','DIV3_TOTAL_GTIME','DIV3_LONGEST_GTIME','DIV3_WHEELS_OFF','DIV3_TAIL_NUM','DIV4_AIRPORT','DIV4_AIRPORT_ID','DIV4_AIRPORT_SEQ_ID','DIV4_WHEELS_ON','DIV4_TOTAL_GTIME','DIV4_LONGEST_GTIME','DIV4_WHEELS_OFF','DIV4_TAIL_NUM','DIV5_AIRPORT','DIV5_AIRPORT_ID','DIV5_AIRPORT_SEQ_ID','DIV5_WHEELS_ON','DIV5_TOTAL_GTIME','DIV5_LONGEST_GTIME','DIV5_WHEELS_OFF','DIV5_TAIL_NUM']\n",
    "df = pd.DataFrame(columns=cols)\n",
    "for dataframe in dataframes:\n",
    "    df = pd.concat([df, dataframe.sample(frac=0.1)])"
   ]
  },
  {
   "cell_type": "code",
   "execution_count": 9,
   "metadata": {
    "collapsed": false
   },
   "outputs": [],
   "source": [
    "file_name = './Data/sampled.csv'\n",
    "df.to_csv(file_name, sep=',', encoding='utf-8')"
   ]
  },
  {
   "cell_type": "code",
   "execution_count": 10,
   "metadata": {
    "collapsed": false
   },
   "outputs": [
    {
     "name": "stdout",
     "output_type": "stream",
     "text": [
      "<class 'pandas.core.frame.DataFrame'>\n",
      "Int64Index: 479122 entries, 2016 to 2016\n",
      "Columns: 109 entries, QUARTER to Unnamed: 109\n",
      "dtypes: float64(70), int64(20), object(19)\n",
      "memory usage: 402.1+ MB\n",
      "None\n"
     ]
    }
   ],
   "source": [
    "print(df1.info())"
   ]
  },
  {
   "cell_type": "code",
   "execution_count": null,
   "metadata": {
    "collapsed": true
   },
   "outputs": [],
   "source": []
  }
 ],
 "metadata": {
  "kernelspec": {
   "display_name": "Python 2",
   "language": "python",
   "name": "python2"
  },
  "language_info": {
   "codemirror_mode": {
    "name": "ipython",
    "version": 2
   },
   "file_extension": ".py",
   "mimetype": "text/x-python",
   "name": "python",
   "nbconvert_exporter": "python",
   "pygments_lexer": "ipython2",
   "version": "2.7.13"
  }
 },
 "nbformat": 4,
 "nbformat_minor": 2
}
